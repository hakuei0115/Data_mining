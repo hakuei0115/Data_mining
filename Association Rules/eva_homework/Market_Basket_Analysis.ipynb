{
  "nbformat": 4,
  "nbformat_minor": 0,
  "metadata": {
    "colab": {
      "provenance": []
    },
    "kernelspec": {
      "name": "python3",
      "display_name": "Python 3"
    },
    "language_info": {
      "name": "python"
    }
  },
  "cells": [
    {
      "cell_type": "markdown",
      "source": [
        "匯入所需的庫。pandas 用來處理數據，TransactionEncoder 用來將交易數據編碼為二進制形式，apriori 用來發現頻繁項目集，association_rules 用來根據頻繁項目集生成關聯規則。"
      ],
      "metadata": {
        "id": "NU8P1KxPBO8m"
      }
    },
    {
      "cell_type": "code",
      "execution_count": 1,
      "metadata": {
        "id": "LWaKX4s1AcrO"
      },
      "outputs": [],
      "source": [
        "import pandas as pd\n",
        "from mlxtend.preprocessing import TransactionEncoder\n",
        "from mlxtend.frequent_patterns import apriori, association_rules"
      ]
    },
    {
      "cell_type": "markdown",
      "source": [
        "讀取 Excel 文件中的數據。df 變數存儲了指定工作表 \"retaildata\" 的數據集。這個文件包含了零售交易數據，例如商品名稱和客戶購買信息。\n",
        "工作表叫retaildata是因為載下來他就叫這個。"
      ],
      "metadata": {
        "id": "bcMvS4p_BRbs"
      }
    },
    {
      "cell_type": "code",
      "source": [
        "file_path = 'Assignment-1_Data.xlsx'\n",
        "df = pd.read_excel(file_path, sheet_name=\"retaildata\")"
      ],
      "metadata": {
        "colab": {
          "base_uri": "https://localhost:8080/"
        },
        "id": "4Sa231N4AgjA",
        "outputId": "2e2c5891-2d5a-4ad9-8fd2-d06a53d74659"
      },
      "execution_count": 2,
      "outputs": [
        {
          "output_type": "stream",
          "name": "stderr",
          "text": [
            "/usr/local/lib/python3.10/dist-packages/ipykernel/ipkernel.py:283: DeprecationWarning: `should_run_async` will not call `transform_cell` automatically in the future. Please pass the result to `transformed_cell` argument and any exception that happen during thetransform in `preprocessing_exc_tuple` in IPython 7.17 and above.\n",
            "  and should_run_async(code)\n"
          ]
        }
      ]
    },
    {
      "cell_type": "markdown",
      "source": [
        "將 Itemname 列中的所有值轉換為字串格式，確保所有商品名稱都是可比較的字串形式。"
      ],
      "metadata": {
        "id": "KOSz2-4rBUrV"
      }
    },
    {
      "cell_type": "code",
      "source": [
        "df['Itemname'] = df['Itemname'].astype(str)"
      ],
      "metadata": {
        "colab": {
          "base_uri": "https://localhost:8080/"
        },
        "id": "4TqFnDFaAh3F",
        "outputId": "b3e9e225-9ef5-4ccd-e23a-832c9a2c78a4"
      },
      "execution_count": 3,
      "outputs": [
        {
          "output_type": "stream",
          "name": "stderr",
          "text": [
            "/usr/local/lib/python3.10/dist-packages/ipykernel/ipkernel.py:283: DeprecationWarning: `should_run_async` will not call `transform_cell` automatically in the future. Please pass the result to `transformed_cell` argument and any exception that happen during thetransform in `preprocessing_exc_tuple` in IPython 7.17 and above.\n",
            "  and should_run_async(code)\n"
          ]
        }
      ]
    },
    {
      "cell_type": "markdown",
      "source": [
        "根據 Country 和 BillNo 進行分組，將每個帳單號中的所有商品作為列表儲存。這一步會將每個交易（由 Country 和 BillNo 定義）轉換為一個購物籃，即每筆交易對應的商品清單。"
      ],
      "metadata": {
        "id": "7MijiCg5BY7B"
      }
    },
    {
      "cell_type": "code",
      "source": [
        "transactions = df.groupby(['Country', 'BillNo'])['Itemname'].apply(list).tolist()"
      ],
      "metadata": {
        "colab": {
          "base_uri": "https://localhost:8080/"
        },
        "id": "UKBmUHGMAjE7",
        "outputId": "955960ec-bb4d-4123-be30-7f0090775cd4"
      },
      "execution_count": 4,
      "outputs": [
        {
          "output_type": "stream",
          "name": "stderr",
          "text": [
            "/usr/local/lib/python3.10/dist-packages/ipykernel/ipkernel.py:283: DeprecationWarning: `should_run_async` will not call `transform_cell` automatically in the future. Please pass the result to `transformed_cell` argument and any exception that happen during thetransform in `preprocessing_exc_tuple` in IPython 7.17 and above.\n",
            "  and should_run_async(code)\n"
          ]
        }
      ]
    },
    {
      "cell_type": "markdown",
      "source": [
        "使用 TransactionEncoder 將購物籃數據轉換為二進制格式，其中每個商品在每筆交易中用 0 和 1 表示。df_encoded 是二進制格式的 DataFrame，其中每行表示一筆交易，每列表示一個商品，值為 1 表示該交易購買了該商品，0 則表示未購買。"
      ],
      "metadata": {
        "id": "QKsYnZvtBb36"
      }
    },
    {
      "cell_type": "code",
      "source": [
        "te = TransactionEncoder()\n",
        "te_ary = te.fit(transactions).transform(transactions)\n",
        "df_encoded = pd.DataFrame(te_ary, columns=te.columns_)"
      ],
      "metadata": {
        "colab": {
          "base_uri": "https://localhost:8080/"
        },
        "id": "ErZeNZ1lAkIU",
        "outputId": "8351d156-3fbb-4088-bd2b-bb90cdc9af50"
      },
      "execution_count": 5,
      "outputs": [
        {
          "output_type": "stream",
          "name": "stderr",
          "text": [
            "/usr/local/lib/python3.10/dist-packages/ipykernel/ipkernel.py:283: DeprecationWarning: `should_run_async` will not call `transform_cell` automatically in the future. Please pass the result to `transformed_cell` argument and any exception that happen during thetransform in `preprocessing_exc_tuple` in IPython 7.17 and above.\n",
            "  and should_run_async(code)\n"
          ]
        }
      ]
    },
    {
      "cell_type": "markdown",
      "source": [
        "使用 apriori 算法發現頻繁項目集，min_support=0.02 表示只保留出現在至少 2% 交易中的項目集。use_colnames=True 表示保留列名稱，即將結果以商品名稱顯示。"
      ],
      "metadata": {
        "id": "xVuCNCjqBeqc"
      }
    },
    {
      "cell_type": "code",
      "source": [
        "frequent_itemsets = apriori(df_encoded, min_support=0.02, use_colnames=True)"
      ],
      "metadata": {
        "colab": {
          "base_uri": "https://localhost:8080/"
        },
        "id": "z5yKmiMZAlDQ",
        "outputId": "3c241d8e-92a8-4274-85a6-315ec74f2b6e"
      },
      "execution_count": 6,
      "outputs": [
        {
          "output_type": "stream",
          "name": "stderr",
          "text": [
            "/usr/local/lib/python3.10/dist-packages/ipykernel/ipkernel.py:283: DeprecationWarning: `should_run_async` will not call `transform_cell` automatically in the future. Please pass the result to `transformed_cell` argument and any exception that happen during thetransform in `preprocessing_exc_tuple` in IPython 7.17 and above.\n",
            "  and should_run_async(code)\n"
          ]
        }
      ]
    },
    {
      "cell_type": "markdown",
      "source": [
        "根據頻繁項目集生成關聯規則。metric=\"lift\" 表示根據提升度來篩選規則，min_threshold=1 表示只保留提升度大於等於 1 的規則，這樣的規則表明前後件之間存在正向關聯。"
      ],
      "metadata": {
        "id": "hPXDdV2MBkJn"
      }
    },
    {
      "cell_type": "code",
      "source": [
        "rules = association_rules(frequent_itemsets, metric=\"lift\", min_threshold=1)"
      ],
      "metadata": {
        "id": "9h3Ahu0MBinI"
      },
      "execution_count": null,
      "outputs": []
    },
    {
      "cell_type": "markdown",
      "source": [
        "打印生成的關聯規則，以便檢查結果。"
      ],
      "metadata": {
        "id": "IBUnak_BBnyw"
      }
    },
    {
      "cell_type": "code",
      "source": [
        "print(rules)"
      ],
      "metadata": {
        "colab": {
          "base_uri": "https://localhost:8080/"
        },
        "id": "UUgKURBkAmwo",
        "outputId": "f3c570a9-b088-4e89-fe15-2bf30441099a"
      },
      "execution_count": 7,
      "outputs": [
        {
          "output_type": "stream",
          "name": "stdout",
          "text": [
            "                                           antecedents  \\\n",
            "0                    (PACK OF 72 RETROSPOT CAKE CASES)   \n",
            "1                        (60 TEATIME FAIRY CAKE CASES)   \n",
            "2                           (ALARM CLOCK BAKELIKE RED)   \n",
            "3                         (ALARM CLOCK BAKELIKE GREEN)   \n",
            "4                          (ALARM CLOCK BAKELIKE PINK)   \n",
            "..                                                 ...   \n",
            "113  (ROSES REGENCY TEACUP AND SAUCER, PINK REGENCY...   \n",
            "114  (GREEN REGENCY TEACUP AND SAUCER, PINK REGENCY...   \n",
            "115                  (ROSES REGENCY TEACUP AND SAUCER)   \n",
            "116                  (GREEN REGENCY TEACUP AND SAUCER)   \n",
            "117                   (PINK REGENCY TEACUP AND SAUCER)   \n",
            "\n",
            "                                           consequents  antecedent support  \\\n",
            "0                        (60 TEATIME FAIRY CAKE CASES)            0.059041   \n",
            "1                    (PACK OF 72 RETROSPOT CAKE CASES)            0.036837   \n",
            "2                         (ALARM CLOCK BAKELIKE GREEN)            0.047408   \n",
            "3                           (ALARM CLOCK BAKELIKE RED)            0.044638   \n",
            "4                           (ALARM CLOCK BAKELIKE RED)            0.035037   \n",
            "..                                                 ...                 ...   \n",
            "113                  (GREEN REGENCY TEACUP AND SAUCER)            0.026312   \n",
            "114                  (ROSES REGENCY TEACUP AND SAUCER)            0.027928   \n",
            "115  (GREEN REGENCY TEACUP AND SAUCER, PINK REGENCY...            0.046762   \n",
            "116  (ROSES REGENCY TEACUP AND SAUCER, PINK REGENCY...            0.045008   \n",
            "117  (ROSES REGENCY TEACUP AND SAUCER, GREEN REGENC...            0.033975   \n",
            "\n",
            "     consequent support   support  confidence       lift  leverage  \\\n",
            "0              0.036837  0.020080    0.340109   9.232821  0.017905   \n",
            "1              0.059041  0.020080    0.545113   9.232821  0.017905   \n",
            "2              0.044638  0.029220    0.616358  13.807829  0.027104   \n",
            "3              0.047408  0.029220    0.654602  13.807829  0.027104   \n",
            "4              0.047408  0.020957    0.598155  12.617178  0.019296   \n",
            "..                  ...       ...         ...        ...       ...   \n",
            "113            0.045008  0.023773    0.903509  20.074575  0.022589   \n",
            "114            0.046762  0.023773    0.851240  18.203756  0.022467   \n",
            "115            0.027928  0.023773    0.508391  18.203756  0.022467   \n",
            "116            0.026312  0.023773    0.528205  20.074575  0.022589   \n",
            "117            0.033744  0.023773    0.699728  20.736270  0.022627   \n",
            "\n",
            "     conviction  zhangs_metric  \n",
            "0      1.459580       0.947640  \n",
            "1      2.068555       0.925794  \n",
            "2      2.490245       0.973740  \n",
            "3      2.757953       0.970917  \n",
            "4      2.370549       0.954174  \n",
            "..          ...            ...  \n",
            "113    9.897194       0.975863  \n",
            "114    6.407879       0.972218  \n",
            "115    1.977328       0.991427  \n",
            "116    2.063795       0.994967  \n",
            "117    3.217938       0.985249  \n",
            "\n",
            "[118 rows x 10 columns]\n"
          ]
        },
        {
          "output_type": "stream",
          "name": "stderr",
          "text": [
            "/usr/local/lib/python3.10/dist-packages/ipykernel/ipkernel.py:283: DeprecationWarning: `should_run_async` will not call `transform_cell` automatically in the future. Please pass the result to `transformed_cell` argument and any exception that happen during thetransform in `preprocessing_exc_tuple` in IPython 7.17 and above.\n",
            "  and should_run_async(code)\n"
          ]
        }
      ]
    }
  ]
}