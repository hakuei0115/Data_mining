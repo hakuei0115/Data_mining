{
  "nbformat": 4,
  "nbformat_minor": 0,
  "metadata": {
    "colab": {
      "provenance": []
    },
    "kernelspec": {
      "name": "python3",
      "display_name": "Python 3"
    },
    "language_info": {
      "name": "python"
    }
  },
  "cells": [
    {
      "cell_type": "markdown",
      "source": [
        "引入所需套件"
      ],
      "metadata": {
        "id": "AB0WTRVDEaE-"
      }
    },
    {
      "cell_type": "code",
      "execution_count": 1,
      "metadata": {
        "id": "4DX8aRfL0VOk"
      },
      "outputs": [],
      "source": [
        "import pandas as pd\n",
        "import seaborn as sns\n",
        "import matplotlib.pyplot as plt\n",
        "from sklearn.cluster import KMeans\n",
        "from sklearn.decomposition import PCA\n",
        "from sklearn.preprocessing import MinMaxScaler"
      ]
    },
    {
      "cell_type": "markdown",
      "source": [
        "讀取資料"
      ],
      "metadata": {
        "id": "kla3gY0OEcQV"
      }
    },
    {
      "cell_type": "code",
      "source": [
        "file_path = 'CrimesOnWomenData.csv'\n",
        "data = pd.read_csv(file_path)\n",
        "print(data.head())"
      ],
      "metadata": {
        "colab": {
          "base_uri": "https://localhost:8080/"
        },
        "id": "tS6_bb7D0drZ",
        "outputId": "0843573b-7d2d-4849-a12b-39fbd3d83a2f"
      },
      "execution_count": 2,
      "outputs": [
        {
          "output_type": "stream",
          "name": "stdout",
          "text": [
            "   Unnamed: 0              State  Year  Rape   K&A   DD   AoW   AoM    DV  WT\n",
            "0           0     ANDHRA PRADESH  2001   871   765  420  3544  2271  5791   7\n",
            "1           1  ARUNACHAL PRADESH  2001    33    55    0    78     3    11   0\n",
            "2           2              ASSAM  2001   817  1070   59   850     4  1248   0\n",
            "3           3              BIHAR  2001   888   518  859   562    21  1558  83\n",
            "4           4       CHHATTISGARH  2001   959   171   70  1763   161   840   0\n"
          ]
        }
      ]
    },
    {
      "cell_type": "markdown",
      "source": [
        "移除不必要的欄位"
      ],
      "metadata": {
        "id": "X1ovaI0NEfFe"
      }
    },
    {
      "cell_type": "code",
      "source": [
        "data = data.drop(columns=['Unnamed: 0'])"
      ],
      "metadata": {
        "id": "SS7-T-iV0fuz"
      },
      "execution_count": 4,
      "outputs": []
    },
    {
      "cell_type": "markdown",
      "source": [
        "進行資料縮放"
      ],
      "metadata": {
        "id": "yAJFqcDPEg8e"
      }
    },
    {
      "cell_type": "code",
      "source": [
        "scaler = MinMaxScaler()\n",
        "numerical_columns = ['Rape', 'K&A', 'DD', 'AoW', 'AoM', 'DV', 'WT']\n",
        "data[numerical_columns] = scaler.fit_transform(data[numerical_columns])"
      ],
      "metadata": {
        "id": "BCuyND-w0sTt"
      },
      "execution_count": 5,
      "outputs": []
    },
    {
      "cell_type": "markdown",
      "source": [
        "使用手肘法找出最佳叢群數"
      ],
      "metadata": {
        "id": "2pMuPwMXEiTP"
      }
    },
    {
      "cell_type": "code",
      "source": [
        "sse = []\n",
        "\n",
        "k_values = range(1, 11)\n",
        "for k in k_values:\n",
        "    kmeans = KMeans(n_clusters=k, random_state=0)\n",
        "    kmeans.fit(data[numerical_columns])\n",
        "    sse.append(kmeans.inertia_)\n",
        "\n",
        "plt.figure(figsize=(8, 6))\n",
        "plt.plot(k_values, sse, marker='o')\n",
        "plt.title('Elbow Method for Optimal K')\n",
        "plt.xlabel('Number of Clusters (K)')\n",
        "plt.ylabel('Sum of Squared Errors (SSE)')\n",
        "plt.grid(True)\n",
        "plt.show()"
      ],
      "metadata": {
        "id": "YIuH1jHz2bPA"
      },
      "execution_count": null,
      "outputs": []
    },
    {
      "cell_type": "markdown",
      "source": [
        "進行K-means分群"
      ],
      "metadata": {
        "id": "55b7mh3_ElD2"
      }
    },
    {
      "cell_type": "code",
      "source": [
        "kmeans = KMeans(n_clusters=3, random_state=0)\n",
        "data['Cluster'] = kmeans.fit_predict(data[numerical_columns])"
      ],
      "metadata": {
        "id": "_lcakBQj0w3T"
      },
      "execution_count": 6,
      "outputs": []
    },
    {
      "cell_type": "markdown",
      "source": [
        "使用主成分分析降維並顯示結果"
      ],
      "metadata": {
        "id": "QcWYMo6lEoET"
      }
    },
    {
      "cell_type": "code",
      "source": [
        "pca = PCA(n_components=2)\n",
        "pca_result = pca.fit_transform(data[numerical_columns])\n",
        "\n",
        "plt.figure(figsize=(8, 6))\n",
        "plt.scatter(pca_result[:, 0], pca_result[:, 1], c=data['Cluster'], cmap='viridis', marker='o')\n",
        "plt.title('K-means Clustering (K=3) with PCA Visualization')\n",
        "plt.xlabel('PCA Component 1')\n",
        "plt.ylabel('PCA Component 2')\n",
        "plt.colorbar(label='Cluster')\n",
        "plt.grid(True)\n",
        "plt.show()"
      ],
      "metadata": {
        "id": "BuQxIfmR06X9"
      },
      "execution_count": null,
      "outputs": []
    },
    {
      "cell_type": "markdown",
      "source": [
        "生成一個箱形圖 展示每個叢群中各類犯罪數據的分佈情況"
      ],
      "metadata": {
        "id": "u7_HqAPWE2_V"
      }
    },
    {
      "cell_type": "code",
      "source": [
        "cluster_melted = data.melt(id_vars=['Cluster'], value_vars=numerical_columns, var_name='Crime Type', value_name='Crime Rate')\n",
        "plt.figure(figsize=(12, 6))\n",
        "\n",
        "sns.boxplot(x='Crime Type', y='Crime Rate', hue='Cluster', data=cluster_melted)\n",
        "\n",
        "plt.title('Crime Type Distribution by Cluster')\n",
        "plt.xticks(rotation=45)\n",
        "plt.ylabel('Normalized Crime Rate')\n",
        "plt.xlabel('Crime Type')\n",
        "plt.tight_layout()\n",
        "plt.show()"
      ],
      "metadata": {
        "id": "AGu6mYI8Erpm"
      },
      "execution_count": null,
      "outputs": []
    }
  ]
}